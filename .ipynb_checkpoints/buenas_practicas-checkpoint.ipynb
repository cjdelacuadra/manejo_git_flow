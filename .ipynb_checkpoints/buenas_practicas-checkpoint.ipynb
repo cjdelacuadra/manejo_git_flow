{
 "cells": [
  {
   "cell_type": "code",
   "execution_count": 2,
   "id": "ab5d8d05",
   "metadata": {},
   "outputs": [],
   "source": [
    "import re"
   ]
  },
  {
   "cell_type": "code",
   "execution_count": null,
   "id": "a238461b",
   "metadata": {},
   "outputs": [],
   "source": [
    "def main(top):\n",
    "    return"
   ]
  },
  {
   "cell_type": "code",
   "execution_count": null,
   "id": "3723866a",
   "metadata": {},
   "outputs": [],
   "source": [
    "def top_retweeted(tweets):\n",
    "    tops = [0]\n",
    "    tweets = [0]\n",
    "    for tweet in tweets:\n",
    "        if tweet.\n",
    "        \n",
    "    return"
   ]
  },
  {
   "cell_type": "code",
   "execution_count": null,
   "id": "9244bcf3",
   "metadata": {},
   "outputs": [],
   "source": [
    "def top_usuarios(tweets):\n",
    "    return"
   ]
  },
  {
   "cell_type": "code",
   "execution_count": null,
   "id": "ddb11102",
   "metadata": {},
   "outputs": [],
   "source": [
    "def top_dias(tweets):\n",
    "    return"
   ]
  },
  {
   "cell_type": "code",
   "execution_count": null,
   "id": "b5901e8f",
   "metadata": {},
   "outputs": [],
   "source": [
    "def top_hashtags(tweets):\n",
    "    return"
   ]
  }
 ],
 "metadata": {
  "kernelspec": {
   "display_name": "Python 3",
   "language": "python",
   "name": "python3"
  },
  "language_info": {
   "codemirror_mode": {
    "name": "ipython",
    "version": 3
   },
   "file_extension": ".py",
   "mimetype": "text/x-python",
   "name": "python",
   "nbconvert_exporter": "python",
   "pygments_lexer": "ipython3",
   "version": "3.9.7"
  }
 },
 "nbformat": 4,
 "nbformat_minor": 5
}
