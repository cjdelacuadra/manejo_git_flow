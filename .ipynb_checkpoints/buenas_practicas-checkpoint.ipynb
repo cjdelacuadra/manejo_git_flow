{
 "cells": [
  {
   "cell_type": "code",
   "execution_count": null,
   "id": "ece23a13",
   "metadata": {},
   "outputs": [],
   "source": []
  },
  {
   "cell_type": "code",
   "execution_count": null,
   "id": "a457eab5",
   "metadata": {},
   "outputs": [],
   "source": [
    "def main(top):\n",
    "    return"
   ]
  },
  {
   "cell_type": "code",
   "execution_count": null,
   "id": "de6f577e",
   "metadata": {},
   "outputs": [],
   "source": [
    "def top_retweeted():\n",
    "    return"
   ]
  },
  {
   "cell_type": "code",
   "execution_count": null,
   "id": "c72943fa",
   "metadata": {},
   "outputs": [],
   "source": [
    "def top_usuarios():\n",
    "    return"
   ]
  },
  {
   "cell_type": "code",
   "execution_count": null,
   "id": "c7fca786",
   "metadata": {},
   "outputs": [],
   "source": [
    "def top_dias():\n",
    "    return"
   ]
  }
 ],
 "metadata": {
  "kernelspec": {
   "display_name": "Python 3",
   "language": "python",
   "name": "python3"
  },
  "language_info": {
   "codemirror_mode": {
    "name": "ipython",
    "version": 3
   },
   "file_extension": ".py",
   "mimetype": "text/x-python",
   "name": "python",
   "nbconvert_exporter": "python",
   "pygments_lexer": "ipython3",
   "version": "3.9.7"
  }
 },
 "nbformat": 4,
 "nbformat_minor": 5
}
